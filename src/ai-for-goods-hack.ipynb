{
 "cells": [
  {
   "cell_type": "code",
   "execution_count": null,
   "metadata": {},
   "outputs": [],
   "source": [
    "import pandas as pd\n",
    "import numpy as np\n",
    "\n",
    "import matplotlib.pyplot as plt\n",
    "\n",
    "from azureml.core import Workspace, Dataset"
   ]
  },
  {
   "cell_type": "code",
   "execution_count": null,
   "metadata": {},
   "outputs": [],
   "source": [
    "subscription_id = ''\n",
    "resource_group = 'ai-in-cloud-workshop-rg'\n",
    "workspace_name = 'ai-in-cloud-workspace'\n",
    "\n",
    "workspace = Workspace(subscription_id, resource_group, workspace_name)\n",
    "\n",
    "dataset = Dataset.get_by_name(workspace, name='covid19-spread')\n",
    "dataset.description"
   ]
  },
  {
   "cell_type": "code",
   "execution_count": null,
   "metadata": {},
   "outputs": [],
   "source": [
    "data = dataset.to_pandas_dataframe()\n",
    "data.sample(10)"
   ]
  },
  {
   "cell_type": "code",
   "execution_count": null,
   "metadata": {},
   "outputs": [],
   "source": [
    "data.info()"
   ]
  },
  {
   "cell_type": "markdown",
   "metadata": {},
   "source": [
    "| var\\_name                | var\\_def                                                                                                                                                                                                  |\n",
    "| :----------------------- | :-------------------------------------------------------------------------------------------------------------------------------------------------------------------------------------------------------- |\n",
    "| iso3c                    | Country name                                                                                                                                                                                              |\n",
    "| country                  | ISO3c country code as defined by ISO 3166-1 alpha-3                                                                                                                                                       |\n",
    "| date                     | Calendar date                                                                                                                                                                                             |\n",
    "| confirmed                | Confirmed Covid-19 cases as reported by JHU CSSE (accumulated)                                                                                                                                            |\n",
    "| deaths                   | Covid-19-related deaths as reported by JHU CSSE (accumulated)                                                                                                                                             |\n",
    "| recovered                | Covid-19 recoveries as reported by JHU CSSE (accumulated)                                                                                                                                                 |\n",
    "| ecdc\\_cases              | Covid-19 cases as reported by ECDC (accumulated)                                                                                                                                                          |\n",
    "| ecdc\\_deaths             | Covid-19-related deaths as reported by ECDC (accumulated)                                                                                                                                                 |\n",
    "| total\\_tests             | Accumulated test counts as reported by Our World in Data                                                                                                                                                  |\n",
    "| tests\\_units             | Definition of what constitutes a ‘test’                                                                                                                                                                   |\n",
    "| soc\\_dist                | Number of social distancing measures reported up to date by ACAPS, net of lifted restrictions                                                                                                             |\n",
    "| mov\\_rest                | Number of movement restrictions reported up to date by ACAPS, net of lifted restrictions                                                                                                                  |\n",
    "| pub\\_health              | Number of public health measures reported up to date by ACAPS, net of lifted restrictions                                                                                                                 |\n",
    "| gov\\_soc\\_econ           | Number of social and economic measures reported up to date by ACAPS, net of lifted restrictions                                                                                                           |\n",
    "| lockdown                 | Number of lockdown measures reported up to date by ACAPS, net of lifted restrictions                                                                                                                      |\n",
    "| apple\\_mtr\\_driving      | Apple Maps usage for driving directions, as percentage\\*100 relative to the baseline of Jan 13, 2020                                                                                                      |\n",
    "| apple\\_mtr\\_walking      | Apple Maps usage for walking directions, as percentage\\*100 relative to the baseline of Jan 13, 2020                                                                                                      |\n",
    "| apple\\_mtr\\_transit      | Apple Maps usage for public transit directions, as percentage\\*100 relative to the baseline of Jan 13, 2020                                                                                               |\n",
    "| gcmr\\_retail\\_recreation | Google Community Mobility Reports data for the frequency that people visit retail and recreation places expressed as a percentage\\*100 change relative to the baseline period Jan 3 - Feb 6, 2020         |\n",
    "| gcmr\\_grocery\\_pharmacy  | Google Community Mobility Reports data for the frequency that people visit grocery stores and pharmacies expressed as a percentage\\*100 change relative to the baseline period Jan 3 - Feb 6, 2020        |\n",
    "| gcmr\\_parks              | Google Community Mobility Reports data for the frequency that people visit parks expressed as a percentage\\*100 change relative to the baseline period Jan 3 - Feb 6, 2020                                |\n",
    "| gcmr\\_transit\\_stations  | Google Community Mobility Reports data for the frequency that people visit transit stations expressed as a percentage\\*100 change relative to the baseline period Jan 3 - Feb 6, 2020                     |\n",
    "| gcmr\\_workplaces         | Google Community Mobility Reports data for the frequency that people visit workplaces expressed as a percentage\\*100 change relative to the baseline period Jan 3 - Feb 6, 2020                           |\n",
    "| gcmr\\_residential        | Google Community Mobility Reports data for the frequency that people visit residential places expressed as a percentage\\*100 change relative to the baseline period Jan 3 - Feb 6, 2020                   |\n",
    "| gtrends\\_score           | Google search volume for the term ‘coronavirus’, relative across time with the country maximum scaled to 100                                                                                              |\n",
    "| gtrends\\_country\\_score  | Country-level Google search volume for the term ‘coronavirus’ over a period starting Jan 1, 2020, relative across countries with the country having the highest search volume scaled to 100 (time-stable) |\n",
    "| region                   | Country region as classified by the World Bank (time-stable)                                                                                                                                              |\n",
    "| income                   | Country income group as classified by the World Bank (time-stable)                                                                                                                                        |\n",
    "| population               | Country population as reported by the World Bank (original identifier ‘SP.POP.TOTL’, time-stable)                                                                                                         |\n",
    "| land\\_area\\_skm          | Country land mass in square kilometers as reported by the World Bank (original identifier ‘AG.LND.TOTL.K2’, time-stable)                                                                                  |\n",
    "| pop\\_density             | Country population density as reported by the World Bank (original identifier ‘EN.POP.DNST’, time-stable)                                                                                                 |\n",
    "| pop\\_largest\\_city       | Population in the largest metropolian area of the country as reported by the World Bank (original identifier ‘EN.URB.LCTY’, time-stable)                                                                  |\n",
    "| life\\_expectancy         | Average life expectancy at birth of country citizens in years as reported by the World Bank (original identifier ‘SP.DYN.LE00.IN’, time-stable)                                                           |\n",
    "| gdp\\_capita              | Country gross domestic product per capita, measured in 2010 US-$ as reported by the World Bank (original identifier ‘NY.GDP.PCAP.KD’, time-stable)                                                        |\n",
    "| timestamp                | Date and time where data has been collected from authoritative sources                                                                                                                                    |\n",
    "\n",
    "Source: https://github.com/joachim-gassen/tidycovid19/"
   ]
  },
  {
   "cell_type": "code",
   "execution_count": null,
   "metadata": {},
   "outputs": [],
   "source": [
    "data_ru = data[data.iso3c == 'RUS']\n",
    "data_ru.sort_values(by=['date'], inplace=True)\n",
    "\n",
    "data_ru[['country', 'date', 'confirmed', 'deaths', 'recovered']].tail(10)"
   ]
  },
  {
   "cell_type": "code",
   "execution_count": null,
   "metadata": {},
   "outputs": [],
   "source": [
    "data_ru[['date', 'confirmed', 'deaths', 'recovered']].set_index('date').plot()"
   ]
  },
  {
   "cell_type": "code",
   "execution_count": null,
   "metadata": {},
   "outputs": [],
   "source": [
    "data_ru_numeric = data_ru.select_dtypes(include=np.number)\n",
    "\n",
    "f = plt.figure(figsize=(9, 9))\n",
    "\n",
    "plt.matshow(data_ru_numeric.corr(), fignum=f.number)\n",
    "plt.xticks(range(data_ru_numeric.shape[1]), data_ru_numeric.columns, fontsize=14, rotation=45)\n",
    "plt.yticks(range(data_ru_numeric.shape[1]), data_ru_numeric.columns, fontsize=14)\n",
    "\n",
    "cb = plt.colorbar()\n",
    "cb.ax.tick_params(labelsize=14)\n",
    "plt.title('Correlation Matrix', fontsize=16);"
   ]
  },
  {
   "cell_type": "code",
   "execution_count": null,
   "metadata": {},
   "outputs": [],
   "source": [
    "data_ru['label'] = data.confirmed\n",
    "\n",
    "data_ru['confirmed_prev'] = data.confirmed.shift(-1)\n",
    "data_ru['recovered_prev'] = data.recovered.shift(-1)\n",
    "data_ru['deaths_prev'] = data.deaths.shift(-1)\n",
    "\n",
    "data_ru[['date', 'label', 'confirmed_prev', 'recovered_prev', 'deaths_prev']].tail(7)"
   ]
  },
  {
   "cell_type": "code",
   "execution_count": null,
   "metadata": {},
   "outputs": [],
   "source": [
    "data_ru['confirmed_lag2d'] = data.confirmed.shift(-2)\n",
    "data_ru['confirmed_lag3d'] = data.confirmed.shift(-3)\n",
    "data_ru['confirmed_lag4d'] = data.confirmed.shift(-4)\n",
    "data_ru['confirmed_lag5d'] = data.confirmed.shift(-5)\n",
    "\n",
    "data_ru[['date', 'label', 'confirmed_prev', 'confirmed_lag2d', 'confirmed_lag3d', 'confirmed_lag4d', 'confirmed_lag5d']].tail(7)"
   ]
  },
  {
   "cell_type": "code",
   "execution_count": null,
   "metadata": {},
   "outputs": [],
   "source": [
    "data_ru.drop(columns=['confirmed', 'recovered', 'deaths'], inplace=True)"
   ]
  },
  {
   "cell_type": "code",
   "execution_count": null,
   "metadata": {},
   "outputs": [],
   "source": [
    "data_ru['confirmed_diff1d'] = data_ru['confirmed_prev'].diff()\n",
    "data_ru['confirmed_rate1d'] = data_ru['confirmed_prev'].pct_change()\n",
    "\n",
    "data_ru[['date', 'label', 'confirmed_prev', 'confirmed_diff1d', 'confirmed_rate1d']].tail(7)"
   ]
  },
  {
   "cell_type": "code",
   "execution_count": null,
   "metadata": {},
   "outputs": [],
   "source": [
    "data_ru.shape"
   ]
  },
  {
   "cell_type": "code",
   "execution_count": null,
   "metadata": {},
   "outputs": [],
   "source": [
    "data_ru = data_ru[:-5]\n",
    "data_ru.dropna(subset=['label'], inplace=True)\n",
    "\n",
    "data_ru.shape"
   ]
  },
  {
   "cell_type": "code",
   "execution_count": null,
   "metadata": {},
   "outputs": [],
   "source": [
    "data_ru.tail(7)"
   ]
  },
  {
   "cell_type": "code",
   "execution_count": null,
   "metadata": {},
   "outputs": [],
   "source": [
    "os.makedirs('buffer', exist_ok=True)\n",
    "data_ru.to_parquet('buffer/data_ru.parquet')\n",
    "\n",
    "dataref = workspace.get_default_datastore().upload('buffer')\n",
    "dataset = Dataset.Tabular.from_parquet_files(path = dataref.path('data_ru.parquet'))\n",
    "\n",
    "dataset.register(workspace, name = 'covid19-spread-russia')\n"
   ]
  }
 ],
 "metadata": {
  "kernelspec": {
   "display_name": "Python 3.6 - AzureML",
   "language": "python",
   "name": "python3-azureml"
  },
  "language_info": {
   "codemirror_mode": {
    "name": "ipython",
    "version": 3
   },
   "file_extension": ".py",
   "mimetype": "text/x-python",
   "name": "python",
   "nbconvert_exporter": "python",
   "pygments_lexer": "ipython3",
   "version": "3.6.9"
  }
 },
 "nbformat": 4,
 "nbformat_minor": 4
}
